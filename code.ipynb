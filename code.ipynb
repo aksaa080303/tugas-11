# Fungsi untuk menjumlahkan total nilai dan list
def totalValues(angka):
    total = 0
    for nilai in angka:
        total += nilai
    return total

# Contoh penggunaan:
angka = [2, 1, 3, 4, 9, 5]
total = totalValues(angka)
print("Total nilai dalam list:", total)

# Fungsi untuk mencari nilai terbesar dalam sebuah list
def maxNumber(angka):
    return max(angka)

# Contoh penggunaan:
angka = [23, 12, 11, 12, 20, 4]
maksimum = maxNumber(angka)
print("Nilai terbesar dalam list:", maksimum)

# Fungsi untuk menjumlahkan dua buah list
def mixList(list1, list2):
    return list1 + list2

# Contoh penggunaan:
list1 = ['Sahrul']
list2 = ['Harmawan']
hasil = mixList(list1, list2)
print("Hasil penggabungan dua list:", hasil)
